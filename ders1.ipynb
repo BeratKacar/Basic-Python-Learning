{
 "cells": [
  {
   "cell_type": "code",
   "execution_count": 1,
   "id": "f833f663-ab63-43aa-bd3a-22a80f4bb5bc",
   "metadata": {},
   "outputs": [
    {
     "data": {
      "text/plain": [
       "4"
      ]
     },
     "execution_count": 1,
     "metadata": {},
     "output_type": "execute_result"
    }
   ],
   "source": [
    "1 + 3"
   ]
  },
  {
   "cell_type": "code",
   "execution_count": 2,
   "id": "1f79c95d-c187-4d17-aa2f-fbee4a430a51",
   "metadata": {},
   "outputs": [
    {
     "data": {
      "text/plain": [
       "13"
      ]
     },
     "execution_count": 2,
     "metadata": {},
     "output_type": "execute_result"
    }
   ],
   "source": [
    "5 + 8"
   ]
  },
  {
   "cell_type": "code",
   "execution_count": 3,
   "id": "2defa29c-b286-487d-ba0a-f5c2ff5123da",
   "metadata": {},
   "outputs": [
    {
     "name": "stdout",
     "output_type": "stream",
     "text": [
      "hello world\n"
     ]
    }
   ],
   "source": [
    "print(\"hello world\")"
   ]
  },
  {
   "cell_type": "code",
   "execution_count": 4,
   "id": "28f467a4-153f-4d08-bf05-e6697ed749e1",
   "metadata": {},
   "outputs": [
    {
     "name": "stdout",
     "output_type": "stream",
     "text": [
      "hello worldhello worldhello world\n"
     ]
    }
   ],
   "source": [
    "print(\"hello world\" * 3)"
   ]
  },
  {
   "cell_type": "code",
   "execution_count": 5,
   "id": "38b3f485-32e3-437c-9047-603ea38b1e8e",
   "metadata": {},
   "outputs": [
    {
     "data": {
      "text/plain": [
       "'Merhaba Burak'"
      ]
     },
     "execution_count": 5,
     "metadata": {},
     "output_type": "execute_result"
    }
   ],
   "source": [
    "mesaj = \"Burak\"\n",
    "isim = \"Merhaba\"\n",
    "isim + \" \" + mesaj"
   ]
  },
  {
   "cell_type": "code",
   "execution_count": 6,
   "id": "ee2dc9ff-2738-4b80-96fc-0978957e3232",
   "metadata": {},
   "outputs": [
    {
     "data": {
      "text/plain": [
       "'Den'"
      ]
     },
     "execution_count": 6,
     "metadata": {},
     "output_type": "execute_result"
    }
   ],
   "source": [
    "isim = \"Deniz\"\n",
    "isim[0:3]"
   ]
  },
  {
   "cell_type": "code",
   "execution_count": 7,
   "id": "9676c39c-239e-42fb-96c7-5596a7dc2ec2",
   "metadata": {},
   "outputs": [
    {
     "data": {
      "text/plain": [
       "'Den'"
      ]
     },
     "execution_count": 7,
     "metadata": {},
     "output_type": "execute_result"
    }
   ],
   "source": [
    "isim[:3]"
   ]
  },
  {
   "cell_type": "code",
   "execution_count": 8,
   "id": "0df2c33f-5ead-4e25-95e1-d65b2922239c",
   "metadata": {},
   "outputs": [
    {
     "data": {
      "text/plain": [
       "'eniz'"
      ]
     },
     "execution_count": 8,
     "metadata": {},
     "output_type": "execute_result"
    }
   ],
   "source": [
    "isim[1:]"
   ]
  },
  {
   "cell_type": "code",
   "execution_count": 9,
   "id": "4e580036-5c4b-4980-b1aa-3ec94d2d5eb6",
   "metadata": {},
   "outputs": [
    {
     "data": {
      "text/plain": [
       "'zine'"
      ]
     },
     "execution_count": 9,
     "metadata": {},
     "output_type": "execute_result"
    }
   ],
   "source": [
    "# başlangıç: bitiş : adım sayısı\n",
    "isim[10:0:-1]"
   ]
  },
  {
   "cell_type": "code",
   "execution_count": 12,
   "id": "83f80a8e-6502-47da-9f1a-9a4021c422e4",
   "metadata": {},
   "outputs": [
    {
     "name": "stdout",
     "output_type": "stream",
     "text": [
      "Ondalık bir sayı giriniz:  .25\n"
     ]
    },
    {
     "name": "stdout",
     "output_type": "stream",
     "text": [
      "1.0\n"
     ]
    }
   ],
   "source": [
    "x=float(input(\"Ondalık bir sayı giriniz: \"))\n",
    "\n",
    "sonuc=x*4\n",
    "\n",
    "print(sonuc)"
   ]
  },
  {
   "cell_type": "code",
   "execution_count": 13,
   "id": "d8d7a38c-5991-46ec-a8e8-d0e9ce260eb0",
   "metadata": {},
   "outputs": [
    {
     "data": {
      "text/plain": [
       "True"
      ]
     },
     "execution_count": 13,
     "metadata": {},
     "output_type": "execute_result"
    }
   ],
   "source": [
    "\"ac\" > \"ab\""
   ]
  },
  {
   "cell_type": "code",
   "execution_count": 3,
   "id": "259ed56d-c399-4c6d-9447-bfbba43d8f5c",
   "metadata": {},
   "outputs": [
    {
     "name": "stdout",
     "output_type": "stream",
     "text": [
      "Bir sayı girin -5\n"
     ]
    },
    {
     "name": "stdout",
     "output_type": "stream",
     "text": [
      "sayı negatif :  -5\n",
      "sayı negatif :  -4\n",
      "sayı negatif :  -3\n",
      "sayı negatif :  -2\n",
      "sayı negatif :  -1\n",
      "Sayı pozitif :  0\n"
     ]
    }
   ],
   "source": [
    "x = int(input(\"Bir sayı girin\"))\n",
    "while x<0:\n",
    "    print(\"sayı negatif : \" , x)\n",
    "    x = x + 1\n",
    "print(\"Sayı pozitif : \" , x)"
   ]
  },
  {
   "cell_type": "code",
   "execution_count": 4,
   "id": "549891b1-9e25-4f95-8693-69604d8a21db",
   "metadata": {},
   "outputs": [
    {
     "name": "stdout",
     "output_type": "stream",
     "text": [
      "h\n",
      "e\n",
      "y\n"
     ]
    }
   ],
   "source": [
    "for c in \"hey\":\n",
    "    print(c)"
   ]
  },
  {
   "cell_type": "code",
   "execution_count": 12,
   "id": "9ed65c52-402f-431f-b854-467c1c48b250",
   "metadata": {},
   "outputs": [
    {
     "name": "stdout",
     "output_type": "stream",
     "text": [
      "0 5\n",
      "1 25\n",
      "2 125\n",
      "3 625\n",
      "4 3125\n",
      "3125\n"
     ]
    }
   ],
   "source": [
    "toplam = 1\n",
    "for i in range(5):\n",
    "    toplam *= 5\n",
    "    print(i , toplam)\n",
    "print(toplam)"
   ]
  },
  {
   "cell_type": "code",
   "execution_count": 13,
   "id": "60fb8693-44a2-4b7c-83ed-dc9f873b0bcf",
   "metadata": {},
   "outputs": [
    {
     "name": "stdout",
     "output_type": "stream",
     "text": [
      "0\n",
      "1\n",
      "2\n"
     ]
    }
   ],
   "source": [
    "for i in range(10):\n",
    "    if i == 3:\n",
    "        break\n",
    "    print(i)"
   ]
  },
  {
   "cell_type": "code",
   "execution_count": 14,
   "id": "d4a55639-8235-4948-b768-883b2b33a68a",
   "metadata": {},
   "outputs": [
    {
     "name": "stdout",
     "output_type": "stream",
     "text": [
      "0\n",
      "1\n",
      "2\n",
      "4\n",
      "5\n",
      "6\n",
      "7\n",
      "8\n",
      "9\n"
     ]
    }
   ],
   "source": [
    "for i in range(10):\n",
    "    if i == 3:\n",
    "        continue\n",
    "    print(i)"
   ]
  },
  {
   "cell_type": "code",
   "execution_count": 1,
   "id": "7c83edfc-3e83-48c0-92c9-c921ec21f01e",
   "metadata": {},
   "outputs": [],
   "source": [
    "notlar = [80,90,65,70,24,30,18,88]"
   ]
  },
  {
   "cell_type": "code",
   "execution_count": 2,
   "id": "d5203898-0dcf-431e-b2d1-2120fd561eb6",
   "metadata": {},
   "outputs": [
    {
     "data": {
      "text/plain": [
       "[80, 90, 65, 70, 24, 30, 18, 88]"
      ]
     },
     "execution_count": 2,
     "metadata": {},
     "output_type": "execute_result"
    }
   ],
   "source": [
    "notlar"
   ]
  },
  {
   "cell_type": "code",
   "execution_count": 3,
   "id": "1ce7920a-221b-44b3-97a1-9280f2fc8dbd",
   "metadata": {},
   "outputs": [],
   "source": [
    "notlar[1] += 5"
   ]
  },
  {
   "cell_type": "code",
   "execution_count": 4,
   "id": "8e1eab6a-0f4a-4237-9054-1d6dfa7bdfac",
   "metadata": {},
   "outputs": [
    {
     "data": {
      "text/plain": [
       "[80, 95, 65, 70, 24, 30, 18, 88]"
      ]
     },
     "execution_count": 4,
     "metadata": {},
     "output_type": "execute_result"
    }
   ],
   "source": [
    "notlar"
   ]
  },
  {
   "cell_type": "code",
   "execution_count": 6,
   "id": "b79024de-d206-427d-b18c-77ba57521ca0",
   "metadata": {},
   "outputs": [],
   "source": [
    "notlar[0:2] = 70,25,15"
   ]
  },
  {
   "cell_type": "code",
   "execution_count": 7,
   "id": "b32d8321-603f-421f-ba9a-2e49279b46d3",
   "metadata": {},
   "outputs": [
    {
     "data": {
      "text/plain": [
       "[70, 25, 15, 65, 70, 24, 30, 18, 88]"
      ]
     },
     "execution_count": 7,
     "metadata": {},
     "output_type": "execute_result"
    }
   ],
   "source": [
    "notlar"
   ]
  },
  {
   "cell_type": "code",
   "execution_count": 8,
   "id": "252f6c4c-2d57-461e-a9d2-f40d8930923e",
   "metadata": {},
   "outputs": [
    {
     "data": {
      "text/plain": [
       "9"
      ]
     },
     "execution_count": 8,
     "metadata": {},
     "output_type": "execute_result"
    }
   ],
   "source": [
    "len(notlar)"
   ]
  },
  {
   "cell_type": "code",
   "execution_count": 9,
   "id": "236dea31-a0f7-4e38-8674-21ced11517be",
   "metadata": {},
   "outputs": [],
   "source": [
    "#Append : sona ekler\n",
    "notlar.append(100)"
   ]
  },
  {
   "cell_type": "code",
   "execution_count": 10,
   "id": "24a3699a-50e3-4a60-80e8-105da7ad6d93",
   "metadata": {},
   "outputs": [
    {
     "data": {
      "text/plain": [
       "[70, 25, 15, 65, 70, 24, 30, 18, 88, 100]"
      ]
     },
     "execution_count": 10,
     "metadata": {},
     "output_type": "execute_result"
    }
   ],
   "source": [
    "notlar"
   ]
  },
  {
   "cell_type": "code",
   "execution_count": 11,
   "id": "04a931cb-d33a-465a-82db-c905f4e0a5fd",
   "metadata": {},
   "outputs": [],
   "source": [
    "#extend : birdan fazla elemanı sona ekler\n",
    "notlar.extend([80,90,100])"
   ]
  },
  {
   "cell_type": "code",
   "execution_count": 12,
   "id": "2a0f8bae-035f-4658-8262-d9e547c25d14",
   "metadata": {},
   "outputs": [
    {
     "data": {
      "text/plain": [
       "[70, 25, 15, 65, 70, 24, 30, 18, 88, 100, 80, 90, 100]"
      ]
     },
     "execution_count": 12,
     "metadata": {},
     "output_type": "execute_result"
    }
   ],
   "source": [
    "notlar"
   ]
  },
  {
   "cell_type": "code",
   "execution_count": 27,
   "id": "f70e99bb-c376-4b03-a290-a17366b93da3",
   "metadata": {},
   "outputs": [],
   "source": [
    "notlar[0] = 40"
   ]
  },
  {
   "cell_type": "code",
   "execution_count": 28,
   "id": "a61885a7-acab-47e1-bb24-f22efa31feab",
   "metadata": {},
   "outputs": [
    {
     "data": {
      "text/plain": [
       "[40, 65, 70, 24, 30, 18, 88, 100, 80, 90, 100]"
      ]
     },
     "execution_count": 28,
     "metadata": {},
     "output_type": "execute_result"
    }
   ],
   "source": [
    "notlar"
   ]
  },
  {
   "cell_type": "code",
   "execution_count": 30,
   "id": "a036b4e3-2355-424d-b6a9-40b0fbcccca9",
   "metadata": {},
   "outputs": [],
   "source": [
    "#Buradaki fark şu: insert 0. indexe 65 elemanını atadı ama bunu yaparken 0. indexteki elemanı silmedi, tüm diziyi sağa kaydırdı.\n",
    "notlar.insert(0,65)"
   ]
  },
  {
   "cell_type": "code",
   "execution_count": 22,
   "id": "2c037d41-455c-4fe6-a248-1c9232bd39af",
   "metadata": {},
   "outputs": [
    {
     "data": {
      "text/plain": [
       "[65, 15, 65, 70, 24, 30, 18, 88, 100, 80, 90, 100]"
      ]
     },
     "execution_count": 22,
     "metadata": {},
     "output_type": "execute_result"
    }
   ],
   "source": [
    "notlar"
   ]
  },
  {
   "cell_type": "code",
   "execution_count": 26,
   "id": "bc4d2bae-1320-4244-ae82-35cb21cb91d2",
   "metadata": {},
   "outputs": [],
   "source": [
    "'''Remove: spesifik bir değeri silmekte kullanılır. \n",
    "Listede birden fazla silinmek istenen değerle aynı eleman varsa ilk gördüğünü siler. \n",
    "Eğer belirtilen değer yoksa hata verir.'''\n",
    "notlar.remove(40)"
   ]
  },
  {
   "cell_type": "code",
   "execution_count": 31,
   "id": "3e879aff-3cde-46c9-b8db-92713d9d4424",
   "metadata": {},
   "outputs": [
    {
     "data": {
      "text/plain": [
       "[65, 40, 65, 70, 24, 30, 18, 88, 100, 80, 90, 100]"
      ]
     },
     "execution_count": 31,
     "metadata": {},
     "output_type": "execute_result"
    }
   ],
   "source": [
    "notlar"
   ]
  },
  {
   "cell_type": "code",
   "execution_count": 19,
   "id": "990ab934-7d9e-439b-81e6-84900038db2c",
   "metadata": {},
   "outputs": [
    {
     "data": {
      "text/plain": [
       "25"
      ]
     },
     "execution_count": 19,
     "metadata": {},
     "output_type": "execute_result"
    }
   ],
   "source": [
    "#Pop: remove ile aynı özellik, bu da silmeye yarıyor ama sildiği değeri yazdırıp öyle siliyor.\n",
    "notlar.pop(1)"
   ]
  },
  {
   "cell_type": "code",
   "execution_count": 34,
   "id": "3ac60b5d-5df0-45e3-9d07-54c665b4034f",
   "metadata": {},
   "outputs": [
    {
     "data": {
      "text/plain": [
       "[65, 40, 65, 70, 24, 30, 18, 88, 100, 80, 90, 100]"
      ]
     },
     "execution_count": 34,
     "metadata": {},
     "output_type": "execute_result"
    }
   ],
   "source": [
    "notlar"
   ]
  },
  {
   "cell_type": "code",
   "execution_count": 35,
   "id": "a1c99eb4-5a58-41f6-afd0-46db25eef984",
   "metadata": {},
   "outputs": [
    {
     "data": {
      "text/plain": [
       "2"
      ]
     },
     "execution_count": 35,
     "metadata": {},
     "output_type": "execute_result"
    }
   ],
   "source": [
    "#Count: kaç defa göründüğünü sayar\n",
    "notlar.count(65)"
   ]
  },
  {
   "cell_type": "code",
   "execution_count": 36,
   "id": "2d3b98cb-feac-429a-8c96-1bd250461464",
   "metadata": {},
   "outputs": [
    {
     "data": {
      "text/plain": [
       "[18, 24, 30, 40, 65, 65, 70, 80, 88, 90, 100, 100]"
      ]
     },
     "execution_count": 36,
     "metadata": {},
     "output_type": "execute_result"
    }
   ],
   "source": [
    "#Küçükten büyüğe sıralar ve döndürür ama liste yapsını değiştirmez\n",
    "sorted(notlar)"
   ]
  },
  {
   "cell_type": "code",
   "execution_count": 37,
   "id": "ca220298-fcb2-46fd-a671-e05d60c8574f",
   "metadata": {},
   "outputs": [
    {
     "data": {
      "text/plain": [
       "[65, 40, 65, 70, 24, 30, 18, 88, 100, 80, 90, 100]"
      ]
     },
     "execution_count": 37,
     "metadata": {},
     "output_type": "execute_result"
    }
   ],
   "source": [
    "notlar"
   ]
  },
  {
   "cell_type": "code",
   "execution_count": 38,
   "id": "7c7b1329-c1e3-4ed0-b693-4c365f56966d",
   "metadata": {},
   "outputs": [],
   "source": [
    "#Gene sıralar ama bu sefer listeyi de değiştirir\n",
    "notlar.sort()"
   ]
  },
  {
   "cell_type": "code",
   "execution_count": 39,
   "id": "76c1072f-a4fe-4838-b053-85e2ff039046",
   "metadata": {},
   "outputs": [
    {
     "data": {
      "text/plain": [
       "[18, 24, 30, 40, 65, 65, 70, 80, 88, 90, 100, 100]"
      ]
     },
     "execution_count": 39,
     "metadata": {},
     "output_type": "execute_result"
    }
   ],
   "source": [
    "notlar"
   ]
  },
  {
   "cell_type": "code",
   "execution_count": 43,
   "id": "4d5a0502-cf53-416f-b300-644c58ec9d02",
   "metadata": {},
   "outputs": [
    {
     "data": {
      "text/plain": [
       "\"tuple veri tipi listeler gibi birden çok veri tipini bir arada tutmamızı sağlar.\\n\\n\\nlistelerden farklı olarak tuple'lar immutabledır.\\n\\n\\nMesela bir deniz fenerinin konumunu belirtmek istiyoruz. bunun x ve y koordinat değerleri var (x,y). Deniz fenerini söküp götüremiyoruz, ben bu iki değerin sabit, değiştirilemez olmasını istiyorum. Burada bu iki değeri tutmak için tuple kullanmam mantıklı olabilir.\\n\\n\\nDeğişmeyeceğini bildiğim değerleri bir arada tutmak için.\\n\\n\\ntuple'lar (element1,element2...) şeklinde tanımlanır.\\n\\n\\ntuple'lar listeler gibi farklı veri yapılarında elemanlardan oluşabilir. Elemanları tuple bile olabilir.\""
      ]
     },
     "execution_count": 43,
     "metadata": {},
     "output_type": "execute_result"
    }
   ],
   "source": [
    "'''tuple veri tipi listeler gibi birden çok veri tipini bir arada tutmamızı sağlar.\n",
    "\n",
    "\n",
    "listelerden farklı olarak tuple'lar immutabledır.\n",
    "\n",
    "\n",
    "Mesela bir deniz fenerinin konumunu belirtmek istiyoruz. bunun x ve y koordinat değerleri var (x,y). Deniz fenerini söküp götüremiyoruz, ben bu iki değerin sabit, değiştirilemez olmasını istiyorum. Burada bu iki değeri tutmak için tuple kullanmam mantıklı olabilir.\n",
    "\n",
    "\n",
    "Değişmeyeceğini bildiğim değerleri bir arada tutmak için.\n",
    "\n",
    "\n",
    "tuple'lar (element1,element2...) şeklinde tanımlanır.\n",
    "\n",
    "\n",
    "tuple'lar listeler gibi farklı veri yapılarında elemanlardan oluşabilir. Elemanları tuple bile olabilir.'''"
   ]
  },
  {
   "cell_type": "code",
   "execution_count": 46,
   "id": "17d3aa96-2fae-4197-90bd-03441df3f5cd",
   "metadata": {},
   "outputs": [],
   "source": [
    "okul = {\"Asya\" : 80, \"Gamze\" : 23, \"Berat\" : 100}"
   ]
  },
  {
   "cell_type": "code",
   "execution_count": 47,
   "id": "fb04781a-cb75-4936-92dd-1bca0c0c51a1",
   "metadata": {},
   "outputs": [
    {
     "data": {
      "text/plain": [
       "100"
      ]
     },
     "execution_count": 47,
     "metadata": {},
     "output_type": "execute_result"
    }
   ],
   "source": [
    "okul[\"Berat\"]"
   ]
  },
  {
   "cell_type": "code",
   "execution_count": 50,
   "id": "f82c2f23-3c29-49b8-8136-2c26e8515342",
   "metadata": {},
   "outputs": [],
   "source": [
    "lise = {\"Asya\" :{\"Not\": 80, \"No\" : 2022123124}, \"Gamze\" :{ \"Not\": 90, \"No\" : 2022123125} , \"Berat\" :{ \"Not\": 100, \"No\" : 2022123128}}"
   ]
  },
  {
   "cell_type": "code",
   "execution_count": 51,
   "id": "472e226d-a313-419c-9327-7f62ab63fbf4",
   "metadata": {},
   "outputs": [
    {
     "data": {
      "text/plain": [
       "{'Not': 80, 'No': 2022123124}"
      ]
     },
     "execution_count": 51,
     "metadata": {},
     "output_type": "execute_result"
    }
   ],
   "source": [
    "lise[\"Asya\"]"
   ]
  },
  {
   "cell_type": "code",
   "execution_count": 52,
   "id": "d379be6b-6501-4786-92b1-1b7c90303e40",
   "metadata": {},
   "outputs": [
    {
     "data": {
      "text/plain": [
       "80"
      ]
     },
     "execution_count": 52,
     "metadata": {},
     "output_type": "execute_result"
    }
   ],
   "source": [
    "lise[\"Asya\"][\"Not\"]"
   ]
  },
  {
   "cell_type": "code",
   "execution_count": 53,
   "id": "9bcf2769-38c3-49ff-8862-9e813358dc3f",
   "metadata": {},
   "outputs": [
    {
     "data": {
      "text/plain": [
       "3"
      ]
     },
     "execution_count": 53,
     "metadata": {},
     "output_type": "execute_result"
    }
   ],
   "source": [
    "len(lise)"
   ]
  },
  {
   "cell_type": "code",
   "execution_count": 54,
   "id": "b2f60e06-c22a-4952-83e9-4d34f55f3ee0",
   "metadata": {},
   "outputs": [
    {
     "data": {
      "text/plain": [
       "2"
      ]
     },
     "execution_count": 54,
     "metadata": {},
     "output_type": "execute_result"
    }
   ],
   "source": [
    "len(lise[\"Asya\"])"
   ]
  },
  {
   "cell_type": "code",
   "execution_count": 55,
   "id": "9f8e0b7d-b41c-4235-831e-53d59e3ef9e5",
   "metadata": {},
   "outputs": [],
   "source": [
    "del lise[\"Berat\"][\"Not\"]"
   ]
  },
  {
   "cell_type": "code",
   "execution_count": 56,
   "id": "711a4c24-f7c9-4c5d-a5d7-88e62589c13d",
   "metadata": {},
   "outputs": [
    {
     "data": {
      "text/plain": [
       "{'Asya': {'Not': 80, 'No': 2022123124},\n",
       " 'Gamze': {'Not': 90, 'No': 2022123125},\n",
       " 'Berat': {'No': 2022123128}}"
      ]
     },
     "execution_count": 56,
     "metadata": {},
     "output_type": "execute_result"
    }
   ],
   "source": [
    "lise"
   ]
  },
  {
   "cell_type": "code",
   "execution_count": 58,
   "id": "c7e43db5-8f43-4fc2-981b-96ad650c23f5",
   "metadata": {},
   "outputs": [
    {
     "data": {
      "text/plain": [
       "True"
      ]
     },
     "execution_count": 58,
     "metadata": {},
     "output_type": "execute_result"
    }
   ],
   "source": [
    "\"Berat\" in lise"
   ]
  },
  {
   "cell_type": "code",
   "execution_count": 59,
   "id": "930c6e6e-6d87-46ac-9fec-8ae7c26ec74b",
   "metadata": {},
   "outputs": [
    {
     "data": {
      "text/plain": [
       "False"
      ]
     },
     "execution_count": 59,
     "metadata": {},
     "output_type": "execute_result"
    }
   ],
   "source": [
    "\"Not\" in lise[\"Berat\"]"
   ]
  },
  {
   "cell_type": "code",
   "execution_count": 62,
   "id": "3d7b9b5f-de62-4239-a4ad-cc83371b7f8e",
   "metadata": {},
   "outputs": [
    {
     "ename": "KeyError",
     "evalue": "'a'",
     "output_type": "error",
     "traceback": [
      "\u001b[1;31m---------------------------------------------------------------------------\u001b[0m",
      "\u001b[1;31mKeyError\u001b[0m                                  Traceback (most recent call last)",
      "Cell \u001b[1;32mIn[62], line 2\u001b[0m\n\u001b[0;32m      1\u001b[0m normal_dict \u001b[38;5;241m=\u001b[39m {}\n\u001b[1;32m----> 2\u001b[0m \u001b[38;5;28mprint\u001b[39m(\u001b[43mnormal_dict\u001b[49m\u001b[43m[\u001b[49m\u001b[38;5;124;43m\"\u001b[39;49m\u001b[38;5;124;43ma\u001b[39;49m\u001b[38;5;124;43m\"\u001b[39;49m\u001b[43m]\u001b[49m)\n",
      "\u001b[1;31mKeyError\u001b[0m: 'a'"
     ]
    }
   ],
   "source": [
    "normal_dict = {}\n",
    "print(normal_dict[\"a\"])"
   ]
  },
  {
   "cell_type": "code",
   "execution_count": 61,
   "id": "22b99487-8626-424f-b968-b8b5c34f1370",
   "metadata": {},
   "outputs": [
    {
     "name": "stdout",
     "output_type": "stream",
     "text": [
      "0\n"
     ]
    }
   ],
   "source": [
    "from collections import defaultdict\n",
    "default_dict = defaultdict(int)  \n",
    "print(default_dict[\"a\"])"
   ]
  },
  {
   "cell_type": "code",
   "execution_count": 74,
   "id": "8f0b0dca-eba1-4dd2-a830-400df6896146",
   "metadata": {},
   "outputs": [
    {
     "name": "stdout",
     "output_type": "stream",
     "text": [
      "1 3 4\n",
      "2 5 6\n"
     ]
    }
   ],
   "source": [
    "#hackrank.com tutorial\n",
    "\n",
    "from collections import defaultdict\n",
    "\n",
    "# A ve B gruplarını tanımla\n",
    "n = [\"a\", \"b\", \"a\", \"a\", \"b\", \"b\"]  # A grubu kelimeleri\n",
    "m = [\"a\", \"b\"]  # B grubu kelimeleri\n",
    "\n",
    "# A grubu için defaultdict kullanarak indeksleri sakla\n",
    "group_a = defaultdict(list)\n",
    "for i, word in enumerate(n, start=1):  # 1'den başlayarak indeksleri ekle\n",
    "    group_a[word].append(i)\n",
    "\n",
    "# B grubundaki kelimeleri kontrol et ve sonuçları yazdır\n",
    "for word in m:\n",
    "    if word in group_a:\n",
    "        print(\" \".join(map(str, group_a[word])))\n",
    "    else:\n",
    "        print(-1)\n"
   ]
  },
  {
   "cell_type": "code",
   "execution_count": 26,
   "id": "618d4e59-cb85-4570-9d66-f6a63bce1b52",
   "metadata": {},
   "outputs": [
    {
     "name": "stdout",
     "output_type": "stream",
     "text": [
      " 98\n"
     ]
    },
    {
     "name": "stdout",
     "output_type": "stream",
     "text": [
      "Not Weird\n"
     ]
    }
   ],
   "source": [
    "##hackrank.com tutorial\n",
    "\n",
    "import math\n",
    "import os\n",
    "import random\n",
    "import re\n",
    "import sys\n",
    "\n",
    "\n",
    "\n",
    "if __name__ == '__main__':\n",
    "    n = int(input().strip())\n",
    "    def isWeird(n):\n",
    "        if (n%2 == 1):\n",
    "            return False\n",
    "        elif n <= 5 and n >= 2:\n",
    "            return True \n",
    "        elif n <= 20 and n >= 6:\n",
    "            return False\n",
    "        else:\n",
    "            return True\n",
    "    if isWeird(n) == True:\n",
    "        print(\"Not Weird\")\n",
    "    else:\n",
    "        print(\"Weird\")\n"
   ]
  },
  {
   "cell_type": "code",
   "execution_count": 12,
   "id": "7c3e0706-11e6-435a-b348-2bed7b986e3c",
   "metadata": {},
   "outputs": [
    {
     "name": "stdout",
     "output_type": "stream",
     "text": [
      " 3\n",
      " 5\n"
     ]
    },
    {
     "name": "stdout",
     "output_type": "stream",
     "text": [
      "0\n",
      "0.6\n"
     ]
    }
   ],
   "source": [
    "#hackrank.com tutorial\n",
    "\n",
    "if __name__ == '__main__':\n",
    "    a = int(input())\n",
    "    b = int(input())\n",
    "    print(int(a/b))\n",
    "    print(float(a/b))"
   ]
  },
  {
   "cell_type": "code",
   "execution_count": 22,
   "id": "f65613ec-2ddb-4b1d-a811-26b8d2248aea",
   "metadata": {},
   "outputs": [
    {
     "name": "stdout",
     "output_type": "stream",
     "text": [
      " 6\n"
     ]
    },
    {
     "name": "stdout",
     "output_type": "stream",
     "text": [
      "0\n",
      "1\n",
      "4\n",
      "9\n",
      "16\n",
      "25\n"
     ]
    }
   ],
   "source": [
    "#hackrank.com tutorial\n",
    "if __name__ == '__main__':\n",
    "    n = int(input())\n",
    "    for i in range(n):\n",
    "        sonuc = pow(i,2)\n",
    "        print(sonuc)\n",
    "        i += 1"
   ]
  },
  {
   "cell_type": "code",
   "execution_count": 30,
   "id": "e2929445-0790-4df7-83c9-779ee3265122",
   "metadata": {},
   "outputs": [
    {
     "name": "stdout",
     "output_type": "stream",
     "text": [
      " 1990\n"
     ]
    },
    {
     "name": "stdout",
     "output_type": "stream",
     "text": [
      "False\n"
     ]
    }
   ],
   "source": [
    "#hackrank.com tutorial\n",
    "def is_leap(year):\n",
    "    leap = False\n",
    "    \n",
    "    # Write your logic here\n",
    "    if (year % 400 == 0):\n",
    "        leap = True\n",
    "    elif (year % 100 == 0): \n",
    "        leap = False\n",
    "    elif (year % 4 == 0):\n",
    "        leap = True\n",
    "    else:\n",
    "        leap = False\n",
    "    return leap\n",
    "\n",
    "year = int(input())\n",
    "print(is_leap(year))"
   ]
  },
  {
   "cell_type": "code",
   "execution_count": 3,
   "id": "e46e2e69-9d04-4038-83e8-d103382ccd89",
   "metadata": {},
   "outputs": [
    {
     "name": "stdout",
     "output_type": "stream",
     "text": [
      "0\n",
      "1\n",
      "2\n",
      "3\n",
      "4\n",
      "5\n",
      "6\n",
      "7\n",
      "8\n",
      "9\n"
     ]
    }
   ],
   "source": [
    "for i in range(10):\n",
    "    print (i),"
   ]
  },
  {
   "cell_type": "code",
   "execution_count": 6,
   "id": "46e67d77-5f18-4a56-ba21-ff51a841ef29",
   "metadata": {},
   "outputs": [
    {
     "name": "stdin",
     "output_type": "stream",
     "text": [
      " 5\n"
     ]
    },
    {
     "name": "stdout",
     "output_type": "stream",
     "text": [
      "12345\n"
     ]
    }
   ],
   "source": [
    "#hackrank tutorial\n",
    "if __name__ == '__main__':\n",
    "    n = int(input())\n",
    "    numbers = []\n",
    "    for i in range(n):\n",
    "        numbers.append(i+1)\n",
    "    result = ''.join(map(str, numbers))\n",
    "    print(result)"
   ]
  },
  {
   "cell_type": "code",
   "execution_count": 1,
   "id": "c81cb520-01a3-41dd-831d-6ea56e34b050",
   "metadata": {},
   "outputs": [],
   "source": [
    "s = {1,2,3,4,5,6}"
   ]
  },
  {
   "cell_type": "code",
   "execution_count": 2,
   "id": "c05145ec-7a8b-43d6-b0fb-fab152d4ed6b",
   "metadata": {},
   "outputs": [
    {
     "data": {
      "text/plain": [
       "{1, 2, 3, 4, 5, 6}"
      ]
     },
     "execution_count": 2,
     "metadata": {},
     "output_type": "execute_result"
    }
   ],
   "source": [
    "s"
   ]
  },
  {
   "cell_type": "code",
   "execution_count": 3,
   "id": "57fb9c2a-14cc-438f-b101-bd4436d26368",
   "metadata": {},
   "outputs": [],
   "source": [
    "s1 = {1,2,3,4,5,5,5,4,3,2,1}"
   ]
  },
  {
   "cell_type": "code",
   "execution_count": 4,
   "id": "f0c0a47e-ae3c-4799-8d9a-05cfbbd7113f",
   "metadata": {},
   "outputs": [
    {
     "data": {
      "text/plain": [
       "{1, 2, 3, 4, 5}"
      ]
     },
     "execution_count": 4,
     "metadata": {},
     "output_type": "execute_result"
    }
   ],
   "source": [
    "s1"
   ]
  },
  {
   "cell_type": "code",
   "execution_count": 9,
   "id": "6606ee2a-2bb9-4a9d-b6d5-935b549aad66",
   "metadata": {},
   "outputs": [],
   "source": [
    "message = \"Hello, are you there?\""
   ]
  },
  {
   "cell_type": "code",
   "execution_count": 10,
   "id": "4f5a78be-2f38-487c-aa74-1456a5617f91",
   "metadata": {},
   "outputs": [],
   "source": [
    "s2 = set(message)"
   ]
  },
  {
   "cell_type": "code",
   "execution_count": 11,
   "id": "e41e5196-6b32-4ca9-a20e-b7f89319c511",
   "metadata": {},
   "outputs": [
    {
     "data": {
      "text/plain": [
       "{' ', ',', '?', 'H', 'a', 'e', 'h', 'l', 'o', 'r', 't', 'u', 'y'}"
      ]
     },
     "execution_count": 11,
     "metadata": {},
     "output_type": "execute_result"
    }
   ],
   "source": [
    "s2"
   ]
  },
  {
   "cell_type": "code",
   "execution_count": 12,
   "id": "ae3dfe29-ad08-4f0a-b66b-b27118baa848",
   "metadata": {},
   "outputs": [
    {
     "data": {
      "text/plain": [
       "13"
      ]
     },
     "execution_count": 12,
     "metadata": {},
     "output_type": "execute_result"
    }
   ],
   "source": [
    "len(s2)"
   ]
  },
  {
   "cell_type": "code",
   "execution_count": 13,
   "id": "de7cce92-2096-4ed2-8343-4053680cd066",
   "metadata": {},
   "outputs": [],
   "source": [
    "t = (1,2,3,4,1,5,12,2) "
   ]
  },
  {
   "cell_type": "code",
   "execution_count": 15,
   "id": "55379d46-7986-4a6e-bf60-7cbcc56f47fc",
   "metadata": {},
   "outputs": [
    {
     "data": {
      "text/plain": [
       "{1, 2, 3, 4, 5, 12}"
      ]
     },
     "execution_count": 15,
     "metadata": {},
     "output_type": "execute_result"
    }
   ],
   "source": [
    "#Tuple to set = set(t)\n",
    "set(t)"
   ]
  },
  {
   "cell_type": "code",
   "execution_count": 14,
   "id": "a886052d-6675-418c-8312-a6833bfad6e8",
   "metadata": {},
   "outputs": [
    {
     "data": {
      "text/plain": [
       "6"
      ]
     },
     "execution_count": 14,
     "metadata": {},
     "output_type": "execute_result"
    }
   ],
   "source": [
    "len(set(t))"
   ]
  },
  {
   "cell_type": "code",
   "execution_count": 16,
   "id": "7de4b2e5-6fbf-4b88-ae36-fde2fea28123",
   "metadata": {},
   "outputs": [
    {
     "data": {
      "text/plain": [
       "{12}"
      ]
     },
     "execution_count": 16,
     "metadata": {},
     "output_type": "execute_result"
    }
   ],
   "source": [
    "#t\\s1\n",
    "set(t).difference(s1)"
   ]
  },
  {
   "cell_type": "code",
   "execution_count": 17,
   "id": "b41ab6d7-5639-4e31-88a8-2ba96ed1d91a",
   "metadata": {},
   "outputs": [
    {
     "data": {
      "text/plain": [
       "{1, 2, 3, 4, 5, 12}"
      ]
     },
     "execution_count": 17,
     "metadata": {},
     "output_type": "execute_result"
    }
   ],
   "source": [
    "#t\\s2\n",
    "set(t).difference(s2)"
   ]
  },
  {
   "cell_type": "code",
   "execution_count": 18,
   "id": "a463f20c-e413-4f52-b898-281ed3cd2943",
   "metadata": {},
   "outputs": [
    {
     "data": {
      "text/plain": [
       "{1, 2, 3, 4, 5}"
      ]
     },
     "execution_count": 18,
     "metadata": {},
     "output_type": "execute_result"
    }
   ],
   "source": [
    "# t intersection s1 \n",
    "set(t).intersection(s1)"
   ]
  },
  {
   "cell_type": "code",
   "execution_count": 20,
   "id": "e24d0389-0380-4638-a4a3-c8e9c99c2806",
   "metadata": {},
   "outputs": [
    {
     "data": {
      "text/plain": [
       "{1, 2, 3, 4, 5, 12}"
      ]
     },
     "execution_count": 20,
     "metadata": {},
     "output_type": "execute_result"
    }
   ],
   "source": [
    "set(t).union(s1)"
   ]
  },
  {
   "cell_type": "code",
   "execution_count": 21,
   "id": "3d695e07-9723-471d-bbc1-e458a79f15e4",
   "metadata": {},
   "outputs": [
    {
     "data": {
      "text/plain": [
       "{1, 2, 3, 4, 5, 12}"
      ]
     },
     "execution_count": 21,
     "metadata": {},
     "output_type": "execute_result"
    }
   ],
   "source": [
    "set(t)"
   ]
  },
  {
   "cell_type": "code",
   "execution_count": 22,
   "id": "d52c7ad9-f685-4a7b-b1d5-cd99bd769121",
   "metadata": {},
   "outputs": [
    {
     "data": {
      "text/plain": [
       "{' ',\n",
       " ',',\n",
       " 1,\n",
       " 12,\n",
       " 2,\n",
       " 3,\n",
       " 4,\n",
       " 5,\n",
       " '?',\n",
       " 'H',\n",
       " 'a',\n",
       " 'e',\n",
       " 'h',\n",
       " 'l',\n",
       " 'o',\n",
       " 'r',\n",
       " 't',\n",
       " 'u',\n",
       " 'y'}"
      ]
     },
     "execution_count": 22,
     "metadata": {},
     "output_type": "execute_result"
    }
   ],
   "source": [
    "set(t).union(set(message))"
   ]
  },
  {
   "cell_type": "code",
   "execution_count": 25,
   "id": "bc222805-7ec7-4b8f-beb6-bf599955eaeb",
   "metadata": {},
   "outputs": [
    {
     "name": "stdout",
     "output_type": "stream",
     "text": [
      "2\n"
     ]
    }
   ],
   "source": [
    "for i in range(2,5,3):\n",
    "    print(i)"
   ]
  },
  {
   "cell_type": "code",
   "execution_count": 26,
   "id": "8027ea27-1029-46be-91d1-c892c436932b",
   "metadata": {},
   "outputs": [],
   "source": [
    "squares = []\n",
    "\n",
    "for i in range(1,11):\n",
    "    squares.append(i*i)"
   ]
  },
  {
   "cell_type": "code",
   "execution_count": 27,
   "id": "e0560978-0952-4df9-9ea4-8255e422c9a1",
   "metadata": {},
   "outputs": [
    {
     "data": {
      "text/plain": [
       "[1, 4, 9, 16, 25, 36, 49, 64, 81, 100]"
      ]
     },
     "execution_count": 27,
     "metadata": {},
     "output_type": "execute_result"
    }
   ],
   "source": [
    "squares"
   ]
  },
  {
   "cell_type": "code",
   "execution_count": 30,
   "id": "30a87619-5d2e-4ead-8869-61ef99fca55c",
   "metadata": {},
   "outputs": [],
   "source": [
    "#list comprehension\n",
    "a = [i*i for i in range(1,11)]"
   ]
  },
  {
   "cell_type": "code",
   "execution_count": 31,
   "id": "c6d73fa6-e57e-45f4-b578-d35d9fae7d48",
   "metadata": {},
   "outputs": [
    {
     "data": {
      "text/plain": [
       "[1, 4, 9, 16, 25, 36, 49, 64, 81, 100]"
      ]
     },
     "execution_count": 31,
     "metadata": {},
     "output_type": "execute_result"
    }
   ],
   "source": [
    "a"
   ]
  },
  {
   "cell_type": "code",
   "execution_count": 32,
   "id": "9c7a035f-b5fe-4818-8890-fe012c08760d",
   "metadata": {},
   "outputs": [],
   "source": [
    "def cube(x):\n",
    "    return x * x * x # x ** 3\n",
    "\n",
    "cubes = [cube(x) for x in range(1,11)]"
   ]
  },
  {
   "cell_type": "code",
   "execution_count": 33,
   "id": "35fcc397-f8f7-4eaf-95d5-1654a6a120fd",
   "metadata": {},
   "outputs": [
    {
     "data": {
      "text/plain": [
       "[1, 8, 27, 64, 125, 216, 343, 512, 729, 1000]"
      ]
     },
     "execution_count": 33,
     "metadata": {},
     "output_type": "execute_result"
    }
   ],
   "source": [
    "cubes"
   ]
  },
  {
   "cell_type": "code",
   "execution_count": 34,
   "id": "b405e8be-77dd-4f03-9e42-17ca0b7d66c9",
   "metadata": {},
   "outputs": [],
   "source": [
    "m=[[[ 25, 36, 62],[ 28, 38, 64],[ 30, 40, 67]],[[ 1, 27, 56],[ 1, 25, 55],[ 2, 21, 51]]]"
   ]
  },
  {
   "cell_type": "code",
   "execution_count": 35,
   "id": "cc7bae72-4ef3-4d74-a536-4ad7e1c8fde9",
   "metadata": {},
   "outputs": [
    {
     "data": {
      "text/plain": [
       "[[[25, 36, 62], [28, 38, 64], [30, 40, 67]],\n",
       " [[1, 27, 56], [1, 25, 55], [2, 21, 51]]]"
      ]
     },
     "execution_count": 35,
     "metadata": {},
     "output_type": "execute_result"
    }
   ],
   "source": [
    "m"
   ]
  },
  {
   "cell_type": "code",
   "execution_count": 78,
   "id": "2ec1fc10-1b58-4e6d-b705-0b74d61fb490",
   "metadata": {},
   "outputs": [
    {
     "name": "stdin",
     "output_type": "stream",
     "text": [
      "x:  1\n",
      "y:  1\n",
      "z:  1\n",
      "n:  2\n"
     ]
    },
    {
     "name": "stdout",
     "output_type": "stream",
     "text": [
      "[[0, 0, 0], [0, 0, 1], [0, 1, 0], [1, 0, 0], [1, 1, 1]]\n"
     ]
    }
   ],
   "source": [
    "if __name__ == '__main__':\n",
    "    x = int(input(\"x: \"))\n",
    "    y = int(input(\"y: \"))\n",
    "    z = int(input(\"z: \"))\n",
    "    n = int(input(\"n: \"))\n",
    "\n",
    "    # List comprehension to generate the required list\n",
    "    result = [[i, j, k] for i in range(x + 1) \n",
    "                        for j in range(y + 1) \n",
    "                        for k in range(z + 1) \n",
    "                        if i + j + k != n]\n",
    "\n",
    "    print(result)"
   ]
  },
  {
   "cell_type": "code",
   "execution_count": 21,
   "id": "3c333aae-5f91-4093-83db-6b1b8abf65e5",
   "metadata": {},
   "outputs": [
    {
     "name": "stdin",
     "output_type": "stream",
     "text": [
      " 4\n",
      " 2 3 4 2\n"
     ]
    },
    {
     "ename": "AttributeError",
     "evalue": "'int' object has no attribute 'append'",
     "output_type": "error",
     "traceback": [
      "\u001b[1;31m---------------------------------------------------------------------------\u001b[0m",
      "\u001b[1;31mAttributeError\u001b[0m                            Traceback (most recent call last)",
      "Cell \u001b[1;32mIn[21], line 17\u001b[0m\n\u001b[0;32m     15\u001b[0m             temp \u001b[38;5;241m=\u001b[39m arr[i\u001b[38;5;241m+\u001b[39m\u001b[38;5;241m1\u001b[39m]\n\u001b[0;32m     16\u001b[0m \u001b[38;5;28;01mfor\u001b[39;00m i \u001b[38;5;129;01min\u001b[39;00m \u001b[38;5;28mrange\u001b[39m(n\u001b[38;5;241m-\u001b[39m\u001b[38;5;241m1\u001b[39m):\n\u001b[1;32m---> 17\u001b[0m     \u001b[43mtemp2\u001b[49m\u001b[38;5;241;43m.\u001b[39;49m\u001b[43mappend\u001b[49m(temp \u001b[38;5;241m-\u001b[39m arr[i])\n\u001b[0;32m     18\u001b[0m     \u001b[38;5;28;01mif\u001b[39;00m \u001b[38;5;28mlen\u001b[39m(temp2) \u001b[38;5;241m!=\u001b[39m \u001b[38;5;241m1\u001b[39m:\n\u001b[0;32m     19\u001b[0m         \u001b[38;5;28;01mif\u001b[39;00m temp2[i] \u001b[38;5;241m<\u001b[39m\u001b[38;5;241m=\u001b[39m temp2[i\u001b[38;5;241m+\u001b[39m\u001b[38;5;241m1\u001b[39m]:\n",
      "\u001b[1;31mAttributeError\u001b[0m: 'int' object has no attribute 'append'"
     ]
    }
   ],
   "source": [
    "if __name__ == '__main__':\n",
    "    n = int(input())\n",
    "    arr = map(int, input().split())\n",
    "    arr = list(arr)\n",
    "    temp = 0\n",
    "    temp2 = len([n])\n",
    "    temp3 = 0\n",
    "    for i in range(n-1):\n",
    "        if arr[i] >= arr[i+1]:\n",
    "            if temp <= arr[i]:\n",
    "                temp = arr[i]\n",
    "                continue\n",
    "        else:\n",
    "            if temp <= arr[i+1]:\n",
    "                temp = arr[i+1]\n",
    "    for i in range(n-1):\n",
    "        temp2.append(temp - arr[i])\n",
    "        if len(temp2) != 1:\n",
    "            if temp2[i] <= temp2[i+1]:\n",
    "                if temp3 >= temp2[i]:\n",
    "                    temp3 = temp\n",
    "                    continue\n",
    "        else:\n",
    "            if temp3 >= temp2[i+1]:\n",
    "                    temp3 = temp\n",
    "    print(temp3)"
   ]
  },
  {
   "cell_type": "code",
   "execution_count": 109,
   "id": "a8b4b2a1-9506-423d-8564-18cafc53dab9",
   "metadata": {},
   "outputs": [
    {
     "name": "stdin",
     "output_type": "stream",
     "text": [
      " 5\n"
     ]
    },
    {
     "name": "stdout",
     "output_type": "stream",
     "text": [
      "0\n",
      "1\n",
      "2\n",
      "3\n",
      "4\n"
     ]
    }
   ],
   "source": [
    "n = int(input())\n",
    "for i in range(n):\n",
    "    print(i)"
   ]
  },
  {
   "cell_type": "code",
   "execution_count": 22,
   "id": "1015c008-6f6e-431e-b006-b30fc1d55c56",
   "metadata": {},
   "outputs": [
    {
     "name": "stdin",
     "output_type": "stream",
     "text": [
      " 3\n",
      " 5 7 3\n"
     ]
    },
    {
     "name": "stdout",
     "output_type": "stream",
     "text": [
      "5\n"
     ]
    }
   ],
   "source": [
    "#hackerrank.com tutorial\n",
    "if __name__ == '__main__':\n",
    "    n = int(input())  # Listenin uzunluğunu al\n",
    "    arr = list(map(int, input().split()))  # Liste elemanlarını al ve listeye çevir\n",
    "\n",
    "    # Listeyi set ile benzersiz hale getir ve yeniden listeye dönüştür\n",
    "    unique_arr = list(set(arr))  \n",
    "\n",
    "    # En büyük ikinci sayıyı bul\n",
    "    unique_arr.sort(reverse=True)  # Büyükten küçüğe sırala\n",
    "    if len(unique_arr) > 1:  # Eğer en az 2 farklı eleman varsa\n",
    "        print(unique_arr[1])  # İkinci en büyük elemanı yazdır\n",
    "    else:\n",
    "        print(\"İkinci en büyük sayı yok.\")  # Tek bir farklı eleman varsa"
   ]
  },
  {
   "cell_type": "code",
   "execution_count": 6,
   "id": "cc0e1267-207d-4753-821e-5da8684617e2",
   "metadata": {},
   "outputs": [],
   "source": [
    "def square(x):\n",
    "    x*x"
   ]
  },
  {
   "cell_type": "code",
   "execution_count": 8,
   "id": "93759da0-c0f9-49d4-a714-7655a321413f",
   "metadata": {},
   "outputs": [],
   "source": [
    "square(3)"
   ]
  },
  {
   "cell_type": "code",
   "execution_count": 9,
   "id": "df92b164-71b8-47d5-aa55-46b7716f6fde",
   "metadata": {},
   "outputs": [],
   "source": [
    "a = square(3)"
   ]
  },
  {
   "cell_type": "code",
   "execution_count": 15,
   "id": "1b23a35f-90e6-47c1-af94-eb943e4b020f",
   "metadata": {},
   "outputs": [
    {
     "name": "stdin",
     "output_type": "stream",
     "text": [
      " 5\n"
     ]
    },
    {
     "name": "stdout",
     "output_type": "stream",
     "text": [
      "12345"
     ]
    }
   ],
   "source": [
    "if __name__ == '__main__':\n",
    "    n = int(input())\n",
    "    for i in range(n):\n",
    "        print(i+1, end=\"\")"
   ]
  },
  {
   "cell_type": "code",
   "execution_count": 17,
   "id": "bf5cb189-322d-4d82-8eed-cdcce4d69223",
   "metadata": {},
   "outputs": [
    {
     "name": "stdin",
     "output_type": "stream",
     "text": [
      " 30\n"
     ]
    },
    {
     "name": "stdout",
     "output_type": "stream",
     "text": [
      "1\n",
      "2\n",
      "Fizz\n",
      "4\n",
      "Buzz\n",
      "Fizz\n",
      "7\n",
      "8\n",
      "Fizz\n",
      "Buzz\n",
      "11\n",
      "Fizz\n",
      "13\n",
      "14\n",
      "FizzBuzz\n",
      "16\n",
      "17\n",
      "Fizz\n",
      "19\n",
      "Buzz\n",
      "Fizz\n",
      "22\n",
      "23\n",
      "Fizz\n",
      "Buzz\n",
      "26\n",
      "Fizz\n",
      "28\n",
      "29\n",
      "FizzBuzz\n"
     ]
    }
   ],
   "source": [
    "#hackrank.com challenge\n",
    "#!/bin/python3\n",
    "\n",
    "import math\n",
    "import os\n",
    "import random\n",
    "import re\n",
    "import sys\n",
    "\n",
    "\n",
    "\n",
    "#\n",
    "# Complete the 'fizzBuzz' function below.\n",
    "#\n",
    "# The function accepts INTEGER n as parameter.\n",
    "#\n",
    "\n",
    "def fizzBuzz(n):\n",
    "    # Write your code here\n",
    "    for i in range(n):\n",
    "        if (i+1)%3==0 and (i+1)%5==0:\n",
    "            print(\"FizzBuzz\")\n",
    "        elif (i+1)%3==0:\n",
    "            print(\"Fizz\")\n",
    "        elif (i+1)%5 == 0:\n",
    "            print(\"Buzz\")\n",
    "        else:\n",
    "            print(i+1) \n",
    "\n",
    "if __name__ == '__main__':\n",
    "    n = int(input().strip())\n",
    "\n",
    "    fizzBuzz(n)\n"
   ]
  },
  {
   "cell_type": "code",
   "execution_count": 1,
   "id": "6341d17f-6e34-447c-8c1d-8fe3228d1249",
   "metadata": {},
   "outputs": [
    {
     "name": "stdin",
     "output_type": "stream",
     "text": [
      " 3\n",
      " Krishna 67 68 69\n",
      " Arjun 70 98 63\n",
      " Malika 52 56 60\n",
      " Malika\n"
     ]
    },
    {
     "name": "stdout",
     "output_type": "stream",
     "text": [
      "56.0\n"
     ]
    }
   ],
   "source": [
    "#hacker.rank challenge\n",
    "if __name__ == '__main__':\n",
    "    n = int(input())\n",
    "    student_marks = {}\n",
    "    for _ in range(n):\n",
    "        name, *line = input().split()\n",
    "        scores = list(map(float, line))\n",
    "        student_marks[name] = scores\n",
    "    query_name = input()\n",
    "    print(sum(student_marks[name])/len(student_marks[name]))"
   ]
  },
  {
   "cell_type": "code",
   "execution_count": 12,
   "id": "a4387bee-2ca0-4735-bc07-e49b70b251b8",
   "metadata": {},
   "outputs": [
    {
     "name": "stdin",
     "output_type": "stream",
     "text": [
      " 2\n",
      " alpha 25 26.5 28\n",
      " beta 26 28 30\n",
      " alpha\n"
     ]
    },
    {
     "name": "stdout",
     "output_type": "stream",
     "text": [
      "26.50\n"
     ]
    }
   ],
   "source": [
    "#hacker.rank challenge\n",
    "if __name__ == '__main__':\n",
    "    n = int(input())\n",
    "    student_marks = {}\n",
    "    for _ in range(n):\n",
    "        name, *line = input().split()\n",
    "        scores = list(map(float, line))\n",
    "        student_marks[name] = scores\n",
    "    query_name = input()\n",
    "    #Mathematical operations are performed first → The sum(...) / len(...) operation returns a float result.\n",
    "    #Decimal formatting (:.2f) is applied → The result is rounded to two decimal places.\n",
    "    #Finally, it is converted to a string → f\"{...}\" creates a formatted string.\n",
    "    print(f\"{sum(student_marks[query_name])/len(student_marks[query_name]):.2f}\")"
   ]
  },
  {
   "cell_type": "code",
   "execution_count": 6,
   "id": "876624c4-591f-4100-a5b8-db741b46d594",
   "metadata": {},
   "outputs": [
    {
     "name": "stdout",
     "output_type": "stream",
     "text": [
      "3\n",
      "3.1416\n"
     ]
    }
   ],
   "source": [
    "x = 3.14159\n",
    "print(round(x))      # 3 \n",
    "print(round(x, 4))   # 3.14 "
   ]
  },
  {
   "cell_type": "code",
   "execution_count": null,
   "id": "e7447460-04f7-41c5-809c-062682155024",
   "metadata": {},
   "outputs": [],
   "source": [
    "#!/bin/python3\n",
    "\n",
    "import math\n",
    "import os\n",
    "import random\n",
    "import re\n",
    "import sys\n",
    "\n",
    "# Complete the time_delta function below.\n",
    "def time_delta(t1, t2):\n",
    "\n",
    "if __name__ == '__main__':\n",
    "    fptr = open(os.environ['OUTPUT_PATH'], 'w')\n",
    "\n",
    "    t = int(input())\n",
    "\n",
    "    for t_itr in range(t):\n",
    "        t1 = input()\n",
    "\n",
    "        t2 = input()\n",
    "\n",
    "        delta = time_delta(t1, t2)\n",
    "\n",
    "        fptr.write(delta + '\\n')\n",
    "\n",
    "    fptr.close()\n"
   ]
  },
  {
   "cell_type": "code",
   "execution_count": 6,
   "id": "241ece11-4775-485e-855c-43fb45e3a31a",
   "metadata": {},
   "outputs": [
    {
     "name": "stdin",
     "output_type": "stream",
     "text": [
      " 6\n",
      " -4 3 -9 0 4 1\n"
     ]
    },
    {
     "name": "stdout",
     "output_type": "stream",
     "text": [
      " 0.500000\n",
      " 0.333333\n",
      " 0.166667\n"
     ]
    }
   ],
   "source": [
    "#hack.rank challenge\n",
    "import math\n",
    "import os\n",
    "import random\n",
    "import re\n",
    "import sys\n",
    "\n",
    "def plusMinus(arr):\n",
    "    # Write your code here\n",
    "    negative = 0\n",
    "    positive = 0\n",
    "    zero = 0\n",
    "    for i in range(len(arr)):\n",
    "        if arr[i] < 0:\n",
    "            negative += 1\n",
    "        elif arr[i] == 0:\n",
    "            zero += 1\n",
    "        else:\n",
    "            positive += 1\n",
    "    print(f\"{(positive/len(arr)): .6f}\")\n",
    "    print(f\"{(negative/len(arr)): .6f}\")\n",
    "    print(f\"{(zero/len(arr)): .6f}\")\n",
    "if __name__ == '__main__':\n",
    "    n = int(input().strip())\n",
    "\n",
    "    arr = list(map(int, input().rstrip().split()))\n",
    "\n",
    "    plusMinus(arr)\n"
   ]
  },
  {
   "cell_type": "code",
   "execution_count": 29,
   "id": "815fb1a4-2650-4a23-a064-cf028e62548f",
   "metadata": {},
   "outputs": [
    {
     "name": "stdin",
     "output_type": "stream",
     "text": [
      " 396285104 573261094 759641832 819230764 364801279\n"
     ]
    },
    {
     "name": "stdout",
     "output_type": "stream",
     "text": [
      "2093989309 2516934969\n"
     ]
    }
   ],
   "source": [
    "#hacke.rank challenge\n",
    "\n",
    "import math\n",
    "import os\n",
    "import random\n",
    "import re\n",
    "import sys\n",
    "\n",
    "def miniMaxSum(arr):\n",
    "    # 3 8 20 39 4\n",
    "    min= 0\n",
    "    max = 0\n",
    "    \n",
    "    for i in range(len(arr)-1):\n",
    "        if arr[i] > arr[i+1]:\n",
    "            temp = arr[i+1]\n",
    "            arr[i+1] = arr[i]\n",
    "            arr[i] = temp\n",
    "        for i in range(len(arr) -1): \n",
    "            if  i != 0 and arr[i] < arr[i-1]:\n",
    "                temp = arr[i]\n",
    "                arr[i] = arr[i-1]\n",
    "                arr[i-1]  =temp\n",
    "    for i in range(4):\n",
    "        min = min + arr[i]\n",
    "        a = len(arr) - 1\n",
    "        max = max + arr[a - i]\n",
    "        \n",
    "    print(min,max)\n",
    "    \n",
    "if __name__ == '__main__':\n",
    "\n",
    "    arr = list(map(int, input().rstrip().split()))\n",
    "\n",
    "    miniMaxSum(arr)\n"
   ]
  },
  {
   "cell_type": "code",
   "execution_count": null,
   "id": "cd908524-7f21-48d2-9843-968d12ec3ce5",
   "metadata": {},
   "outputs": [],
   "source": []
  }
 ],
 "metadata": {
  "kernelspec": {
   "display_name": "Python 3 (ipykernel)",
   "language": "python",
   "name": "python3"
  },
  "language_info": {
   "codemirror_mode": {
    "name": "ipython",
    "version": 3
   },
   "file_extension": ".py",
   "mimetype": "text/x-python",
   "name": "python",
   "nbconvert_exporter": "python",
   "pygments_lexer": "ipython3",
   "version": "3.13.1"
  }
 },
 "nbformat": 4,
 "nbformat_minor": 5
}
